{
 "cells": [
  {
   "cell_type": "markdown",
   "metadata": {},
   "source": [
    "# 1. Imports"
   ]
  },
  {
   "cell_type": "code",
   "execution_count": 3,
   "metadata": {},
   "outputs": [],
   "source": [
    "from build_model import build_v2g_model, build_v2g_model_multinomial, evaluate_subset\n",
    "import matplotlib.pyplot as plt\n",
    "import seaborn as sns\n",
    "import numpy as np\n",
    "\n",
    "import itertools\n",
    "from sklearn.model_selection import cross_val_score"
   ]
  },
  {
   "cell_type": "markdown",
   "metadata": {},
   "source": [
    "# 2. Model setup"
   ]
  },
  {
   "cell_type": "code",
   "execution_count": 4,
   "metadata": {},
   "outputs": [],
   "source": [
    "input_variables = ['Q9','Q2','Q8_1','Q8_2','Q8_99']\n",
    "target_variable = 'Q10_2'  # \"I would be interested in installing V2G...\"\n",
    "csv_file = './data/survey_pre_processed_data.csv'"
   ]
  },
  {
   "cell_type": "code",
   "execution_count": 5,
   "metadata": {},
   "outputs": [],
   "source": [
    "q10_2_categories = [\n",
    "    \"Strongly disagree\",\n",
    "    \"Somewhat disagree\",\n",
    "    \"Neither agree nor disagree\",\n",
    "    \"Somewhat agree\",\n",
    "    \"Strongly agree\"\n",
    "    ]\n",
    "\n",
    "input_variables_names = [\n",
    "    'How familiar are you with V2G?',\n",
    "    'How many kilometres do you drive per year?',\n",
    "    'Owns Solar Panels',\n",
    "    'Owns Home battery',\n",
    "\n",
    "]"
   ]
  },
  {
   "cell_type": "markdown",
   "metadata": {},
   "source": [
    "# 3. Model run"
   ]
  },
  {
   "cell_type": "code",
   "execution_count": 6,
   "metadata": {},
   "outputs": [
    {
     "ename": "TypeError",
     "evalue": "build_v2g_model_multinomial() missing 1 required positional argument: 'transformers'",
     "output_type": "error",
     "traceback": [
      "\u001b[1;31m---------------------------------------------------------------------------\u001b[0m",
      "\u001b[1;31mTypeError\u001b[0m                                 Traceback (most recent call last)",
      "Cell \u001b[1;32mIn [6], line 1\u001b[0m\n\u001b[1;32m----> 1\u001b[0m model, X, y, X_test, y_test \u001b[38;5;241m=\u001b[39m \u001b[43mbuild_v2g_model_multinomial\u001b[49m\u001b[43m(\u001b[49m\u001b[43mcsv_file\u001b[49m\u001b[43m,\u001b[49m\u001b[43m \u001b[49m\u001b[43minput_variables\u001b[49m\u001b[43m,\u001b[49m\u001b[43m \u001b[49m\u001b[43mtarget_variable\u001b[49m\u001b[43m,\u001b[49m\u001b[43m \u001b[49m\u001b[43mdo_normalize\u001b[49m\u001b[38;5;241;43m=\u001b[39;49m\u001b[38;5;28;43;01mTrue\u001b[39;49;00m\u001b[43m,\u001b[49m\u001b[43m \u001b[49m\u001b[43mtest_split_ratio\u001b[49m\u001b[38;5;241;43m=\u001b[39;49m\u001b[38;5;241;43m0.0\u001b[39;49m\u001b[43m)\u001b[49m\n",
      "\u001b[1;31mTypeError\u001b[0m: build_v2g_model_multinomial() missing 1 required positional argument: 'transformers'"
     ]
    }
   ],
   "source": [
    "model, X, y, X_test, y_test = build_v2g_model_multinomial(csv_file, input_variables, target_variable, do_normalize=True, test_split_ratio=0.0)"
   ]
  },
  {
   "cell_type": "code",
   "execution_count": 7,
   "metadata": {},
   "outputs": [
    {
     "ename": "NameError",
     "evalue": "name 'model' is not defined",
     "output_type": "error",
     "traceback": [
      "\u001b[1;31m---------------------------------------------------------------------------\u001b[0m",
      "\u001b[1;31mNameError\u001b[0m                                 Traceback (most recent call last)",
      "Cell \u001b[1;32mIn [7], line 2\u001b[0m\n\u001b[0;32m      1\u001b[0m \u001b[38;5;66;03m# Suppose 'model' is your fitted logistic regression model\u001b[39;00m\n\u001b[1;32m----> 2\u001b[0m coefs \u001b[38;5;241m=\u001b[39m \u001b[43mmodel\u001b[49m\u001b[38;5;241m.\u001b[39mcoef_  \u001b[38;5;66;03m# shape: (n_classes, n_features)\u001b[39;00m\n\u001b[0;32m      4\u001b[0m \u001b[38;5;66;03m# If you want more readable row labels, use your Q10_2 category names\u001b[39;00m\n\u001b[0;32m      5\u001b[0m row_labels \u001b[38;5;241m=\u001b[39m q10_2_categories  \u001b[38;5;66;03m# e.g., [\"Strongly disagree\", ..., \"Strongly agree\"]\u001b[39;00m\n",
      "\u001b[1;31mNameError\u001b[0m: name 'model' is not defined"
     ]
    }
   ],
   "source": [
    "# Suppose 'model' is your fitted logistic regression model\n",
    "coefs = model.coef_  # shape: (n_classes, n_features)\n",
    "\n",
    "# If you want more readable row labels, use your Q10_2 category names\n",
    "row_labels = q10_2_categories  # e.g., [\"Strongly disagree\", ..., \"Strongly agree\"]\n",
    "\n",
    "# Column labels are just your feature names\n",
    "col_labels = input_variables_names  # e.g., ['Q9','Q2','Q8_1','Q8_2']\n",
    "\n",
    "plt.figure(figsize=(16, 8))\n",
    "sns.heatmap(\n",
    "    coefs,\n",
    "    annot=True,        # display numerical values in the cells\n",
    "    cmap=\"RdBu\",     # or another diverging colormap you like\n",
    "    xticklabels=col_labels,\n",
    "    yticklabels=row_labels,\n",
    "    center=0           # ensures 0 is in the middle of the color scale\n",
    ")\n",
    "plt.title(\"Logistic Regression Coefficients Heatmap\")\n",
    "plt.xlabel(\"Features\")\n",
    "plt.ylabel(\"Target Classes\")\n",
    "plt.tight_layout()\n",
    "plt.show()"
   ]
  },
  {
   "cell_type": "code",
   "execution_count": null,
   "metadata": {},
   "outputs": [],
   "source": [
    "# Now let's systematically try all combinations of these variables\n",
    "best_acc = 0\n",
    "best_combo = None\n",
    "\n",
    "for r in range(1, len(input_variables) + 1):\n",
    "    for subset in itertools.combinations(input_variables, r):\n",
    "        mean_cv_acc = evaluate_subset(csv_file, subset, target_variable)\n",
    "        if mean_cv_acc > best_acc:\n",
    "            best_acc = mean_cv_acc\n",
    "            best_combo = subset\n",
    "\n",
    "print(\"Best subset:\", best_combo)\n",
    "print(\"Best subset accuracy:\", best_acc)"
   ]
  },
  {
   "cell_type": "code",
   "execution_count": null,
   "metadata": {},
   "outputs": [],
   "source": [
    "all_variables = [\n",
    "    # e.g. EVERY column except those we exclude \n",
    "    # or just a subset you're testing\n",
    "    \"Q9\", \"Q2\", \"Q8_1\", \"Q8_2\", \"Q8_99\", # ...\n",
    "    \"Q15_1\", \"Q15_2\", # etc.\n",
    "]\n",
    "\n",
    "best_acc = 0\n",
    "best_combo = None\n",
    "max_subset_size = 5 \n",
    "\n",
    "for r in range(1, max_subset_size + 1):\n",
    "    for subset in itertools.combinations(all_variables, r):\n",
    "        try:\n",
    "            acc = evaluate_subset(csv_file, subset, target_variable)\n",
    "            if acc > best_acc:\n",
    "                best_acc = acc\n",
    "                best_combo = subset\n",
    "        except ValueError as e:\n",
    "            # Probably \"No valid rows found\" or some parse error\n",
    "            # We can skip\n",
    "            pass\n",
    "\n",
    "print(\"Best combo:\", best_combo)\n",
    "print(\"Best accuracy:\", best_acc)"
   ]
  },
  {
   "cell_type": "code",
   "execution_count": null,
   "metadata": {},
   "outputs": [],
   "source": []
  }
 ],
 "metadata": {
  "kernelspec": {
   "display_name": "Python 3",
   "language": "python",
   "name": "python3"
  },
  "language_info": {
   "codemirror_mode": {
    "name": "ipython",
    "version": 3
   },
   "file_extension": ".py",
   "mimetype": "text/x-python",
   "name": "python",
   "nbconvert_exporter": "python",
   "pygments_lexer": "ipython3",
   "version": "3.10.4"
  }
 },
 "nbformat": 4,
 "nbformat_minor": 2
}
