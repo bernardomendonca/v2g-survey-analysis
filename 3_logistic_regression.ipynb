{
 "cells": [
  {
   "cell_type": "code",
   "execution_count": null,
   "metadata": {},
   "outputs": [],
   "source": []
  },
  {
   "cell_type": "code",
   "execution_count": 1,
   "metadata": {},
   "outputs": [],
   "source": [
    "def text_to_code_q10_2_binary(raw_ans):\n",
    "    \"\"\"\n",
    "    Converts Q10_2 from 5-category responses to binary:\n",
    "    - \"Strongly disagree\", \"Somewhat disagree\", \"Neither agree nor disagree\" → 0 (Not adopting)\n",
    "    - \"Somewhat agree\", \"Strongly agree\" → 1 (Adopting)\n",
    "    \"\"\"\n",
    "    adopting = {\"Somewhat agree\", \"Strongly agree\"}\n",
    "    return 1 if raw_ans in adopting else 0"
   ]
  },
  {
   "cell_type": "code",
   "execution_count": null,
   "metadata": {},
   "outputs": [],
   "source": [
    "TRANSFORMERS_q6a[\"Q10_2\"] = text_to_code_q10_2_binary"
   ]
  }
 ],
 "metadata": {
  "kernelspec": {
   "display_name": "Python 3",
   "language": "python",
   "name": "python3"
  },
  "language_info": {
   "codemirror_mode": {
    "name": "ipython",
    "version": 3
   },
   "file_extension": ".py",
   "mimetype": "text/x-python",
   "name": "python",
   "nbconvert_exporter": "python",
   "pygments_lexer": "ipython3",
   "version": "3.10.4"
  }
 },
 "nbformat": 4,
 "nbformat_minor": 2
}
