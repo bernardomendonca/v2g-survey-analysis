{
 "cells": [
  {
   "cell_type": "markdown",
   "metadata": {},
   "source": [
    "# 1. Imports"
   ]
  },
  {
   "cell_type": "code",
   "execution_count": 4,
   "metadata": {},
   "outputs": [],
   "source": [
    "from descriptive_analysis import plot_metric, plot_demographic_vs_Q10_2"
   ]
  },
  {
   "cell_type": "markdown",
   "metadata": {},
   "source": [
    "# 2. Descriptive Analytics"
   ]
  },
  {
   "cell_type": "code",
   "execution_count": 5,
   "metadata": {},
   "outputs": [],
   "source": [
    "csv_file = './data/survey_pre_processed_data.csv'"
   ]
  },
  {
   "cell_type": "markdown",
   "metadata": {},
   "source": [
    "## 2.1. Q10_2 'I would be interested in installing V2G technology in my home'"
   ]
  },
  {
   "cell_type": "code",
   "execution_count": 6,
   "metadata": {},
   "outputs": [
    {
     "data": {
      "image/png": "[encoded data removed]",
      "text/plain": [
       "<Figure size 640x480 with 1 Axes>"
      ]
     },
     "metadata": {},
     "output_type": "display_data"
    }
   ],
   "source": [
    "plot_metric('Q10_2', csv_file, 'interest in V2G', 'count of participants')"
   ]
  },
  {
   "cell_type": "markdown",
   "metadata": {},
   "source": [
    "## 2.2. [...] Keep going here with other descriptive analytics"
   ]
  },
  {
   "cell_type": "markdown",
   "metadata": {},
   "source": [
    "# 3. Comparative analytics"
   ]
  },
  {
   "cell_type": "code",
   "execution_count": 7,
   "metadata": {},
   "outputs": [],
   "source": [
    "q21_categories = [\n",
    "    \"Freestanding house\", \n",
    "    \"Townhouse\", \n",
    "    \"Semidetached or terrace\",\n",
    "    \"Apartment/unit\",\n",
    "    \"Other (please specify)\"\n",
    "    ]\n",
    "\n",
    "\n",
    "q10_2_categories = [\n",
    "    \"Strongly disagree\",\n",
    "    \"Somewhat disagree\",\n",
    "    \"Neither agree nor disagree\",\n",
    "    \"Somewhat agree\",\n",
    "    \"Strongly agree\"\n",
    "    ]"
   ]
  },
  {
   "cell_type": "code",
   "execution_count": 9,
   "metadata": {},
   "outputs": [
    {
     "ename": "NameError",
     "evalue": "name 'all_home_types' is not defined",
     "output_type": "error",
     "traceback": [
      "\u001b[1;31m---------------------------------------------------------------------------\u001b[0m",
      "\u001b[1;31mNameError\u001b[0m                                 Traceback (most recent call last)",
      "Cell \u001b[1;32mIn [9], line 1\u001b[0m\n\u001b[1;32m----> 1\u001b[0m \u001b[43mplot_demographic_vs_Q10_2\u001b[49m\u001b[43m(\u001b[49m\u001b[38;5;124;43m'\u001b[39;49m\u001b[38;5;124;43mQ21\u001b[39;49m\u001b[38;5;124;43m'\u001b[39;49m\u001b[43m,\u001b[49m\u001b[43m \u001b[49m\u001b[43mq21_categories\u001b[49m\u001b[43m,\u001b[49m\u001b[43m \u001b[49m\u001b[43mq10_2_categories\u001b[49m\u001b[43m,\u001b[49m\u001b[43m \u001b[49m\u001b[43mcsv_file\u001b[49m\u001b[43m)\u001b[49m\n",
      "File \u001b[1;32mc:\\Users\\24417507\\OneDrive - UTS\\Documents\\v2g-survey-analysis\\v2g-survey-analysis\\descriptive_analysis.py:69\u001b[0m, in \u001b[0;36mplot_demographic_vs_Q10_2\u001b[1;34m(demo_var, possible_demo_answers, possible_q10_2, csvfile)\u001b[0m\n\u001b[0;32m     66\u001b[0m         matrix[r, c] \u001b[38;5;241m=\u001b[39m crosstab[(dv_val, ans)]\n\u001b[0;32m     68\u001b[0m \u001b[38;5;66;03m#    Each row in matrix is one home type, each column is count for a Q10_2 level\u001b[39;00m\n\u001b[1;32m---> 69\u001b[0m xvals \u001b[38;5;241m=\u001b[39m np\u001b[38;5;241m.\u001b[39marange(\u001b[38;5;28mlen\u001b[39m(\u001b[43mall_home_types\u001b[49m))  \u001b[38;5;66;03m# one bar group per home type\u001b[39;00m\n\u001b[0;32m     70\u001b[0m bar_width \u001b[38;5;241m=\u001b[39m \u001b[38;5;241m0.15\u001b[39m  \u001b[38;5;66;03m# small width for side-by-side bars of 5 answer levels\u001b[39;00m\n\u001b[0;32m     71\u001b[0m fig, ax \u001b[38;5;241m=\u001b[39m plt\u001b[38;5;241m.\u001b[39msubplots(figsize\u001b[38;5;241m=\u001b[39m(\u001b[38;5;241m10\u001b[39m,\u001b[38;5;241m6\u001b[39m))\n",
      "\u001b[1;31mNameError\u001b[0m: name 'all_home_types' is not defined"
     ]
    }
   ],
   "source": [
    "plot_demographic_vs_Q10_2('Q21', q21_categories, q10_2_categories, csv_file)"
   ]
  },
  {
   "cell_type": "markdown",
   "metadata": {},
   "source": []
  }
 ],
 "metadata": {
  "kernelspec": {
   "display_name": "Python 3",
   "language": "python",
   "name": "python3"
  },
  "language_info": {
   "codemirror_mode": {
    "name": "ipython",
    "version": 3
   },
   "file_extension": ".py",
   "mimetype": "text/x-python",
   "name": "python",
   "nbconvert_exporter": "python",
   "pygments_lexer": "ipython3",
   "version": "3.10.4"
  }
 },
 "nbformat": 4,
 "nbformat_minor": 2
}
